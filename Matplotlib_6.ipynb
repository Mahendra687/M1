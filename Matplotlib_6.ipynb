{
 "cells": [
  {
   "cell_type": "markdown",
   "id": "c42abb93",
   "metadata": {},
   "source": [
    "**What is Pie Chart?**\n",
    "* A pie chart (or a circle chart) is a circular statistical graphic, which is divided into slices(wedges) to illustrate numerical proportion. \n",
    "\n",
    "* Imagine a pizza where different slices contain different toppings. Bigger the slice, larger the amount of that topping is present:\n",
    "<img align=\"left\" width = \"300\" height=\"300\" src=\"https://lh4.googleusercontent.com/sm2ckVwK61Az6kAJpFJjvUZTSfDGv1fslypfZOFKQPieFuZ8Pkpksx15tjkue0ktpdI3wnn8LW_rZQOP85QCS9JUSWE6kYrHzUA6zoCc6MSNrzkOeK6JkT0rZFiW3qQKSfZ5QGKGHr4=s0\">"
   ]
  },
  {
   "cell_type": "markdown",
   "id": "ece0a94d",
   "metadata": {},
   "source": [
    "**Parameters of a pie chart:**\n",
    "* x: The wedge sizes.\n",
    "* labels: A sequence of strings providing the labels for each wedge.\n",
    "* Colors: A sequence of colors through which the pie chart will cycle. If None, will use the colors in the currently active cycle.\n",
    "* Autopct: string, used to label the wedges with their numeric value. The label will be placed inside the wedge. The format string will be fmt%pct.\n",
    "* We can also pass in arguments to customize our Pie chart to show shadow, explode a part of it, tilt it at an angle or do lot more exciting things!\n",
    "\n",
    "`Don’t get overwhelmed with the terms being used, it’ll be all clear in the below section.`\n",
    "<img align=\"left\" height=\"800\" width=\"800\" src=\"https://lh5.googleusercontent.com/NN1mssEXao_2C53em1ClA_jhlgHXGfzfUcmtfPE4vLBUu6a1Fx4k1i0f1f8yyI2QlY8EHb3wzWcVWVgLIhCNzScWYYqohNBNvJZdFFdQajpsG7I2GjhHB0VLI1Ztucab7MRJaiH9Db4=s0\">"
   ]
  },
  {
   "cell_type": "markdown",
   "id": "7523ecb0",
   "metadata": {},
   "source": [
    "**Creating a Pie Chart:**"
   ]
  },
  {
   "cell_type": "markdown",
   "id": "dd5be920",
   "metadata": {},
   "source": [
    "**Importing Libraries:**"
   ]
  },
  {
   "cell_type": "code",
   "execution_count": 1,
   "id": "588aba97",
   "metadata": {},
   "outputs": [],
   "source": [
    "from pandas import*\n",
    "import pandas as pd\n",
    "from matplotlib import*\n",
    "import matplotlib.pyplot as plt\n",
    "from numpy import*\n",
    "import numpy as np"
   ]
  },
  {
   "cell_type": "code",
   "execution_count": 2,
   "id": "05d290b8",
   "metadata": {},
   "outputs": [
    {
     "data": {
      "image/png": "[encoded data removed]",
      "text/plain": [
       "<Figure size 432x288 with 1 Axes>"
      ]
     },
     "metadata": {},
     "output_type": "display_data"
    }
   ],
   "source": [
    "firms = [\"A\",\"B\",\"C\", \"D\",\"E\"]\n",
    "market_share = [20,25,15,10,8]\n",
    "Explode = [0,0.1,0,0,0]\n",
    "\n",
    "plt.pie(market_share, explode=Explode, labels=firms,autopct=\"%1.1f%%\" )\n",
    "plt.show()"
   ]
  },
  {
   "cell_type": "markdown",
   "id": "ed767628",
   "metadata": {},
   "source": [
    "**Applications of Pie Charts:**\n",
    "* A pie chart is best used when trying to work out the composition of something. If you have categorical data then using a pie chart would work really well as each slice can represent a different category. A good example of a pie chart can be seen below.\n",
    "* Another good use for a pie chart would be to compare areas of growth within a business such as turnover, profit and exposure.\n",
    "* Try creating a pie chart to see how much money you spend in different areas.\n",
    "\n",
    "<img align=\"left\" height=\"500\" width=\"500\" src=\"https://lh6.googleusercontent.com/JYU2yCyKwxIyZVW7RNe-7Lk4BTX1cY0NrPulsGbIDozVhb-RXUQuYlsQV_qO54xjU4L4Hr7-fOqckKrROFFLIxG81fPTJHSl-69t_e_-8ALt8NGbfMAwpetMUIZH1ReDQfyxrI1XLXs=s0\">"
   ]
  }
 ],
 "metadata": {
  "kernelspec": {
   "display_name": "Python 3 (ipykernel)",
   "language": "python",
   "name": "python3"
  },
  "language_info": {
   "codemirror_mode": {
    "name": "ipython",
    "version": 3
   },
   "file_extension": ".py",
   "mimetype": "text/x-python",
   "name": "python",
   "nbconvert_exporter": "python",
   "pygments_lexer": "ipython3",
   "version": "3.9.7"
  }
 },
 "nbformat": 4,
 "nbformat_minor": 5
}
