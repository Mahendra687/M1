{
 "cells": [
  {
   "cell_type": "markdown",
   "id": "f530cbf0",
   "metadata": {},
   "source": [
    "**What is Bar Plot?**\n",
    "Bar charts are one of the most common types of graphs and are used to show data associated with the categorical variables.\n",
    "\n",
    "**Type of Bar Plots:**\n",
    "* Horizontol: Nominal/Categorical\n",
    "* Vertical: Ordinal/Sequential\n",
    "\n",
    "<img align=\"left\" width=\"800\" height=\"1000\" src=\"https://lh5.googleusercontent.com/V8gTNk-5aFYygCcpCkswer20BfvGsiYEkON8d5wkeeEp1oD6ro6iS-0YqWH3C_AOzmdXXtXPXv4qhiTayIgELgTCmBq8srI19QazuP-sF5PGe862Puy6kn3JsZXfOF9uExRpLyo5Jig=s0\">"
   ]
  },
  {
   "cell_type": "markdown",
   "id": "0981514f",
   "metadata": {},
   "source": [
    "**Importing The Libraries:**"
   ]
  },
  {
   "cell_type": "code",
   "execution_count": 1,
   "id": "c6bb54df",
   "metadata": {},
   "outputs": [],
   "source": [
    "from pandas import*\n",
    "import pandas as pd\n",
    "from matplotlib import*\n",
    "import matplotlib.pyplot as plt\n",
    "from numpy import*\n",
    "import numpy as np"
   ]
  },
  {
   "cell_type": "code",
   "execution_count": 2,
   "id": "7cae0cc8",
   "metadata": {},
   "outputs": [
    {
     "data": {
      "text/html": [
       "<div>\n",
       "<style scoped>\n",
       "    .dataframe tbody tr th:only-of-type {\n",
       "        vertical-align: middle;\n",
       "    }\n",
       "\n",
       "    .dataframe tbody tr th {\n",
       "        vertical-align: top;\n",
       "    }\n",
       "\n",
       "    .dataframe thead th {\n",
       "        text-align: right;\n",
       "    }\n",
       "</style>\n",
       "<table border=\"1\" class=\"dataframe\">\n",
       "  <thead>\n",
       "    <tr style=\"text-align: right;\">\n",
       "      <th></th>\n",
       "      <th>land_area</th>\n",
       "      <th>percent_city</th>\n",
       "      <th>percent_senior</th>\n",
       "      <th>physicians</th>\n",
       "      <th>hospital_beds</th>\n",
       "      <th>graduates</th>\n",
       "      <th>work_force</th>\n",
       "      <th>income</th>\n",
       "      <th>region</th>\n",
       "      <th>crime_rate</th>\n",
       "    </tr>\n",
       "  </thead>\n",
       "  <tbody>\n",
       "    <tr>\n",
       "      <th>0</th>\n",
       "      <td>1384</td>\n",
       "      <td>78.1</td>\n",
       "      <td>12.3</td>\n",
       "      <td>25627</td>\n",
       "      <td>69678</td>\n",
       "      <td>50.1</td>\n",
       "      <td>4083.9</td>\n",
       "      <td>72100</td>\n",
       "      <td>1</td>\n",
       "      <td>75.55</td>\n",
       "    </tr>\n",
       "    <tr>\n",
       "      <th>1</th>\n",
       "      <td>3719</td>\n",
       "      <td>43.9</td>\n",
       "      <td>9.4</td>\n",
       "      <td>13326</td>\n",
       "      <td>43292</td>\n",
       "      <td>53.9</td>\n",
       "      <td>3305.9</td>\n",
       "      <td>54542</td>\n",
       "      <td>2</td>\n",
       "      <td>56.03</td>\n",
       "    </tr>\n",
       "    <tr>\n",
       "      <th>2</th>\n",
       "      <td>3553</td>\n",
       "      <td>37.4</td>\n",
       "      <td>10.7</td>\n",
       "      <td>9724</td>\n",
       "      <td>33731</td>\n",
       "      <td>50.6</td>\n",
       "      <td>2066.3</td>\n",
       "      <td>33216</td>\n",
       "      <td>1</td>\n",
       "      <td>41.32</td>\n",
       "    </tr>\n",
       "    <tr>\n",
       "      <th>3</th>\n",
       "      <td>3916</td>\n",
       "      <td>29.9</td>\n",
       "      <td>8.8</td>\n",
       "      <td>6402</td>\n",
       "      <td>24167</td>\n",
       "      <td>52.2</td>\n",
       "      <td>1966.7</td>\n",
       "      <td>32906</td>\n",
       "      <td>2</td>\n",
       "      <td>67.38</td>\n",
       "    </tr>\n",
       "    <tr>\n",
       "      <th>4</th>\n",
       "      <td>2480</td>\n",
       "      <td>31.5</td>\n",
       "      <td>10.5</td>\n",
       "      <td>8502</td>\n",
       "      <td>16751</td>\n",
       "      <td>66.1</td>\n",
       "      <td>1514.5</td>\n",
       "      <td>26573</td>\n",
       "      <td>4</td>\n",
       "      <td>80.19</td>\n",
       "    </tr>\n",
       "  </tbody>\n",
       "</table>\n",
       "</div>"
      ],
      "text/plain": [
       "   land_area  percent_city  percent_senior  physicians  hospital_beds  \\\n",
       "0       1384          78.1            12.3       25627          69678   \n",
       "1       3719          43.9             9.4       13326          43292   \n",
       "2       3553          37.4            10.7        9724          33731   \n",
       "3       3916          29.9             8.8        6402          24167   \n",
       "4       2480          31.5            10.5        8502          16751   \n",
       "\n",
       "   graduates  work_force  income  region  crime_rate  \n",
       "0       50.1      4083.9   72100       1       75.55  \n",
       "1       53.9      3305.9   54542       2       56.03  \n",
       "2       50.6      2066.3   33216       1       41.32  \n",
       "3       52.2      1966.7   32906       2       67.38  \n",
       "4       66.1      1514.5   26573       4       80.19  "
      ]
     },
     "execution_count": 2,
     "metadata": {},
     "output_type": "execute_result"
    }
   ],
   "source": [
    "x = read_csv(\"Metropolitan Dataset.csv\")\n",
    "x.head()"
   ]
  },
  {
   "cell_type": "markdown",
   "id": "a3d0907c",
   "metadata": {},
   "source": [
    "**Creating a Vertical Bar Plot:**\n",
    "\n",
    "Pyplot provides a bar() method to make bar graphs which take the following arguments: categorical variables, their values and color (if you want to specify any)."
   ]
  },
  {
   "cell_type": "code",
   "execution_count": 3,
   "id": "e83c7a62",
   "metadata": {},
   "outputs": [
    {
     "data": {
      "image/png": "[encoded data removed]",
      "text/plain": [
       "<Figure size 432x288 with 1 Axes>"
      ]
     },
     "metadata": {
      "needs_background": "light"
     },
     "output_type": "display_data"
    }
   ],
   "source": [
    "plt.bar(x.region, x.crime_rate)\n",
    "plt.show()"
   ]
  },
  {
   "cell_type": "markdown",
   "id": "0aced65c",
   "metadata": {},
   "source": [
    "**Creating a Horizontal Bar Plot:**\n",
    "\n",
    "It’s also really simple to make a horizontal bar-chart using the plot.barh() method."
   ]
  },
  {
   "cell_type": "code",
   "execution_count": 10,
   "id": "8947fffd",
   "metadata": {},
   "outputs": [
    {
     "data": {
      "image/png": "[encoded data removed]",
      "text/plain": [
       "<Figure size 432x288 with 1 Axes>"
      ]
     },
     "metadata": {
      "needs_background": "light"
     },
     "output_type": "display_data"
    }
   ],
   "source": [
    "plt.barh(x.region, x.crime_rate)\n",
    "plt.show()"
   ]
  },
  {
   "cell_type": "markdown",
   "id": "918fe362",
   "metadata": {},
   "source": [
    "**Bar Charts with multiple quantities:**\n",
    "* When comparing several quantities and when changing one variable, we might want a bar chart where we have bars of one color for one quantity value.\n",
    "* We can plot multiple bar charts by playing with the thickness and the positions of the bars.\n",
    "<img align=\"left\" width=\"500\" height=\"500\" src=\"https://lh3.googleusercontent.com/ZVEEYli6g2gwm-kxkk1tyhBkyGFWFmMtkdxRaFDjsnvtUvQvudIjVb0o10lYtVx1KK_hqcBJXmY4m7nAsav5Vt-qG0jFADhhh4OUydlcOjHJPwUpYEBHc_gJ_OE10__zM1Qwcb-iih8=s0\">"
   ]
  },
  {
   "cell_type": "markdown",
   "id": "945f820e",
   "metadata": {},
   "source": [
    "**Stacked Bar Charts:**\n",
    "* The stacked bar chart stacks bars that represent different groups on top of each other. \n",
    "* The height of the resulting bar shows the combined result of the groups.\n",
    "<img align=\"left\" width=\"500\" height=\"500\" src=\"https://lh5.googleusercontent.com/pDrzlLeu6ts6ojvFn2TYCMxHLKJitQg1ZND-tNpzQylLOlHbydUITNzbm2WaGHFO5lqbDoXlRDEezqcCiUdYYzXuNk2yfGyIwGb5vo-jHLmjG1PJQJNnOFLQuANKMu3QFjF2f4Drx-8=s0\">"
   ]
  },
  {
   "cell_type": "markdown",
   "id": "5df6f068",
   "metadata": {},
   "source": [
    "**Bar Chart vs Histogram**\n",
    "* Histograms are a great way to show results of continuous data, such as: weight, height and time etc.But when the data is in categories (such as Country or Favorite Movie), we should use a Bar Chart. \n",
    "\n",
    "* Have a look at the next part descripting the difference between histogram and bar chart:\n",
    "<img align=\"left\" width=\"500\" height=\"500\" src=\"https://lh3.googleusercontent.com/VGoOA7nH3QLm6oSp66xzly0W-LDDY7hmWAU9FJ32btaC3kxyYY8GgbVtJlNqbIFVxWUcC9PzNWDXXrUOwldoEElOzMP5MyD-RkMz9gVPpBDaSTlMTh13uILZAZgdW1w_mxuyLhskY20=s0\">\n"
   ]
  },
  {
   "cell_type": "code",
   "execution_count": null,
   "id": "6b176df4",
   "metadata": {},
   "outputs": [],
   "source": []
  },
  {
   "cell_type": "code",
   "execution_count": null,
   "id": "44adf55c",
   "metadata": {},
   "outputs": [],
   "source": []
  }
 ],
 "metadata": {
  "kernelspec": {
   "display_name": "Python 3 (ipykernel)",
   "language": "python",
   "name": "python3"
  },
  "language_info": {
   "codemirror_mode": {
    "name": "ipython",
    "version": 3
   },
   "file_extension": ".py",
   "mimetype": "text/x-python",
   "name": "python",
   "nbconvert_exporter": "python",
   "pygments_lexer": "ipython3",
   "version": "3.9.7"
  }
 },
 "nbformat": 4,
 "nbformat_minor": 5
}
